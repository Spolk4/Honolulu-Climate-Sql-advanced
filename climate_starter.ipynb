{
 "cells": [
  {
   "cell_type": "code",
   "execution_count": 1,
   "metadata": {},
   "outputs": [],
   "source": [
    "%matplotlib inline\n",
    "from matplotlib import style\n",
    "style.use('fivethirtyeight')\n",
    "import matplotlib.pyplot as plt"
   ]
  },
  {
   "cell_type": "code",
   "execution_count": 2,
   "metadata": {},
   "outputs": [],
   "source": [
    "import numpy as np\n",
    "import pandas as pd"
   ]
  },
  {
   "cell_type": "code",
   "execution_count": 3,
   "metadata": {},
   "outputs": [],
   "source": [
    "import datetime as dt"
   ]
  },
  {
   "cell_type": "markdown",
   "metadata": {},
   "source": [
    "# Reflect Tables into SQLAlchemy ORM"
   ]
  },
  {
   "cell_type": "code",
   "execution_count": 4,
   "metadata": {},
   "outputs": [],
   "source": [
    "# Python SQL toolkit and Object Relational Mapper\n",
    "import sqlalchemy\n",
    "from sqlalchemy.ext.automap import automap_base\n",
    "from sqlalchemy.orm import Session\n",
    "from sqlalchemy import create_engine, func"
   ]
  },
  {
   "cell_type": "code",
   "execution_count": 5,
   "metadata": {},
   "outputs": [],
   "source": [
    "engine = create_engine(\"sqlite:///Resources/hawaii.sqlite\")"
   ]
  },
  {
   "cell_type": "code",
   "execution_count": 6,
   "metadata": {},
   "outputs": [],
   "source": [
    "# reflect an existing database into a new model\n",
    "Base = automap_base()\n",
    "# reflect the tables\n",
    "Base.prepare(engine, reflect=True)"
   ]
  },
  {
   "cell_type": "code",
   "execution_count": 7,
   "metadata": {},
   "outputs": [
    {
     "data": {
      "text/plain": [
       "['measurement', 'station']"
      ]
     },
     "execution_count": 7,
     "metadata": {},
     "output_type": "execute_result"
    }
   ],
   "source": [
    "# We can view all of the classes that automap found\n",
    "Base.classes.keys()"
   ]
  },
  {
   "cell_type": "code",
   "execution_count": 8,
   "metadata": {},
   "outputs": [],
   "source": [
    "# Save references to each table\n",
    "Measurement = Base.classes.measurement\n",
    "Station = Base.classes.station"
   ]
  },
  {
   "cell_type": "code",
   "execution_count": 9,
   "metadata": {},
   "outputs": [],
   "source": [
    "# Create our session (link) from Python to the DB\n",
    "session = Session(engine)"
   ]
  },
  {
   "cell_type": "code",
   "execution_count": 10,
   "metadata": {},
   "outputs": [
    {
     "data": {
      "text/plain": [
       "{'_sa_instance_state': <sqlalchemy.orm.state.InstanceState at 0x238238bb208>,\n",
       " 'tobs': 65.0,\n",
       " 'date': '2010-01-01',\n",
       " 'station': 'USC00519397',\n",
       " 'prcp': 0.08,\n",
       " 'id': 1}"
      ]
     },
     "execution_count": 10,
     "metadata": {},
     "output_type": "execute_result"
    }
   ],
   "source": [
    "#Pull out the columns by creating a dictiononary from measurement\n",
    "measurement_dict = session.query(Measurement).first()\n",
    "measurement_dict.__dict__"
   ]
  },
  {
   "cell_type": "code",
   "execution_count": 11,
   "metadata": {},
   "outputs": [
    {
     "data": {
      "text/plain": [
       "{'_sa_instance_state': <sqlalchemy.orm.state.InstanceState at 0x238238bbcc0>,\n",
       " 'id': 1,\n",
       " 'elevation': 3.0,\n",
       " 'latitude': 21.2716,\n",
       " 'station': 'USC00519397',\n",
       " 'longitude': -157.8168,\n",
       " 'name': 'WAIKIKI 717.2, HI US'}"
      ]
     },
     "execution_count": 11,
     "metadata": {},
     "output_type": "execute_result"
    }
   ],
   "source": [
    "#Pull out the columns by creating a dictiononary from station\n",
    "station_dict = session.query(Station).first()\n",
    "station_dict.__dict__"
   ]
  },
  {
   "cell_type": "code",
   "execution_count": 12,
   "metadata": {},
   "outputs": [
    {
     "data": {
      "text/html": [
       "<div>\n",
       "<style scoped>\n",
       "    .dataframe tbody tr th:only-of-type {\n",
       "        vertical-align: middle;\n",
       "    }\n",
       "\n",
       "    .dataframe tbody tr th {\n",
       "        vertical-align: top;\n",
       "    }\n",
       "\n",
       "    .dataframe thead th {\n",
       "        text-align: right;\n",
       "    }\n",
       "</style>\n",
       "<table border=\"1\" class=\"dataframe\">\n",
       "  <thead>\n",
       "    <tr style=\"text-align: right;\">\n",
       "      <th></th>\n",
       "      <th>date</th>\n",
       "    </tr>\n",
       "  </thead>\n",
       "  <tbody>\n",
       "    <tr>\n",
       "      <th>0</th>\n",
       "      <td>2017-08-23</td>\n",
       "    </tr>\n",
       "    <tr>\n",
       "      <th>1</th>\n",
       "      <td>2017-08-23</td>\n",
       "    </tr>\n",
       "    <tr>\n",
       "      <th>2</th>\n",
       "      <td>2017-08-23</td>\n",
       "    </tr>\n",
       "    <tr>\n",
       "      <th>3</th>\n",
       "      <td>2017-08-23</td>\n",
       "    </tr>\n",
       "    <tr>\n",
       "      <th>4</th>\n",
       "      <td>2017-08-22</td>\n",
       "    </tr>\n",
       "  </tbody>\n",
       "</table>\n",
       "</div>"
      ],
      "text/plain": [
       "         date\n",
       "0  2017-08-23\n",
       "1  2017-08-23\n",
       "2  2017-08-23\n",
       "3  2017-08-23\n",
       "4  2017-08-22"
      ]
     },
     "execution_count": 12,
     "metadata": {},
     "output_type": "execute_result"
    }
   ],
   "source": [
    "#Create connection with engine to query to order by date DESC\n",
    "conn = engine.connect()\n",
    "last_date = pd.read_sql(\"SELECT date FROM Measurement ORDER BY date DESC\", conn)\n",
    "pd.read_sql\n",
    "last_date.head()"
   ]
  },
  {
   "cell_type": "markdown",
   "metadata": {},
   "source": [
    "# Exploratory Climate Analysis"
   ]
  },
  {
   "cell_type": "code",
   "execution_count": 13,
   "metadata": {},
   "outputs": [
    {
     "name": "stdout",
     "output_type": "stream",
     "text": [
      "2017-08-23\n"
     ]
    }
   ],
   "source": [
    "# Design a query to retrieve the last 12 months of precipitation data and plot the results\n",
    "#print using datetime\n",
    "ordered_by_date = session.query(Measurement).order_by(Measurement.date.desc())\n",
    "last_day = ordered_by_date.first().date\n",
    "print(last_day)"
   ]
  },
  {
   "cell_type": "code",
   "execution_count": 14,
   "metadata": {},
   "outputs": [],
   "source": [
    "#Last year using date time\n",
    "last_yr = dt.date(2017, 8, 23) - dt.timedelta(days=365)\n",
    "# Perform a query to retrieve the data and precipitation scores\n",
    "prcp_scores = session.query(Measurement.date, Measurement.prcp).filter(Measurement.date > last_yr).all()"
   ]
  },
  {
   "cell_type": "code",
   "execution_count": 15,
   "metadata": {},
   "outputs": [],
   "source": [
    "# Save the query results as a Pandas DataFrame and set the index to the date column\n",
    "prcp_scores_df = pd.DataFrame(prcp_scores)\n",
    "prcp_scores_df = prcp_scores_df.set_index('date')\n",
    "#prcp_scores_df.head()"
   ]
  },
  {
   "cell_type": "code",
   "execution_count": 16,
   "metadata": {},
   "outputs": [
    {
     "data": {
      "text/html": [
       "<div>\n",
       "<style scoped>\n",
       "    .dataframe tbody tr th:only-of-type {\n",
       "        vertical-align: middle;\n",
       "    }\n",
       "\n",
       "    .dataframe tbody tr th {\n",
       "        vertical-align: top;\n",
       "    }\n",
       "\n",
       "    .dataframe thead th {\n",
       "        text-align: right;\n",
       "    }\n",
       "</style>\n",
       "<table border=\"1\" class=\"dataframe\">\n",
       "  <thead>\n",
       "    <tr style=\"text-align: right;\">\n",
       "      <th></th>\n",
       "      <th>prcp</th>\n",
       "    </tr>\n",
       "    <tr>\n",
       "      <th>date</th>\n",
       "      <th></th>\n",
       "    </tr>\n",
       "  </thead>\n",
       "  <tbody>\n",
       "    <tr>\n",
       "      <th>2016-08-24</th>\n",
       "      <td>0.08</td>\n",
       "    </tr>\n",
       "    <tr>\n",
       "      <th>2016-08-24</th>\n",
       "      <td>NaN</td>\n",
       "    </tr>\n",
       "    <tr>\n",
       "      <th>2016-08-24</th>\n",
       "      <td>2.15</td>\n",
       "    </tr>\n",
       "    <tr>\n",
       "      <th>2016-08-24</th>\n",
       "      <td>2.28</td>\n",
       "    </tr>\n",
       "    <tr>\n",
       "      <th>2016-08-24</th>\n",
       "      <td>2.15</td>\n",
       "    </tr>\n",
       "  </tbody>\n",
       "</table>\n",
       "</div>"
      ],
      "text/plain": [
       "            prcp\n",
       "date            \n",
       "2016-08-24  0.08\n",
       "2016-08-24   NaN\n",
       "2016-08-24  2.15\n",
       "2016-08-24  2.28\n",
       "2016-08-24  2.15"
      ]
     },
     "execution_count": 16,
     "metadata": {},
     "output_type": "execute_result"
    }
   ],
   "source": [
    "# Sort the dataframe by date\n",
    "prcp_scores_df = prcp_scores_df.sort_index()\n",
    "prcp_scores_df.head()"
   ]
  },
  {
   "cell_type": "code",
   "execution_count": 17,
   "metadata": {},
   "outputs": [
    {
     "data": {
      "image/png": "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\n",
      "text/plain": [
       "<Figure size 864x504 with 1 Axes>"
      ]
     },
     "metadata": {
      "needs_background": "light"
     },
     "output_type": "display_data"
    }
   ],
   "source": [
    "# Use Pandas Plotting with Matplotlib to plot the data\n",
    "ax = prcp_scores_df.plot(color = 'green')\n",
    "plt.gcf().set_size_inches(12, 7)\n",
    "\n",
    "ax.set_title(\"Honolulu Precipitation (2016-08-24, 2017-08-23)\", fontsize=20)\n",
    "ax.set_ylabel('Precipitation',  fontsize=20)\n",
    "ax.set_xlabel('Date',  fontsize=20)\n",
    "\n",
    "plt.grid=True\n",
    "plt.legend(['Precipitation'], loc=\"best\")\n",
    "plt.tight_layout()\n",
    "plt.savefig(\"./My_results/HI_Prcp_plot.png\")\n",
    "plt.show()\n"
   ]
  },
  {
   "cell_type": "code",
   "execution_count": 18,
   "metadata": {},
   "outputs": [
    {
     "data": {
      "text/html": [
       "<div>\n",
       "<style scoped>\n",
       "    .dataframe tbody tr th:only-of-type {\n",
       "        vertical-align: middle;\n",
       "    }\n",
       "\n",
       "    .dataframe tbody tr th {\n",
       "        vertical-align: top;\n",
       "    }\n",
       "\n",
       "    .dataframe thead th {\n",
       "        text-align: right;\n",
       "    }\n",
       "</style>\n",
       "<table border=\"1\" class=\"dataframe\">\n",
       "  <thead>\n",
       "    <tr style=\"text-align: right;\">\n",
       "      <th></th>\n",
       "      <th>prcp</th>\n",
       "    </tr>\n",
       "  </thead>\n",
       "  <tbody>\n",
       "    <tr>\n",
       "      <th>count</th>\n",
       "      <td>2015.000000</td>\n",
       "    </tr>\n",
       "    <tr>\n",
       "      <th>mean</th>\n",
       "      <td>0.176462</td>\n",
       "    </tr>\n",
       "    <tr>\n",
       "      <th>std</th>\n",
       "      <td>0.460288</td>\n",
       "    </tr>\n",
       "    <tr>\n",
       "      <th>min</th>\n",
       "      <td>0.000000</td>\n",
       "    </tr>\n",
       "    <tr>\n",
       "      <th>25%</th>\n",
       "      <td>0.000000</td>\n",
       "    </tr>\n",
       "    <tr>\n",
       "      <th>50%</th>\n",
       "      <td>0.020000</td>\n",
       "    </tr>\n",
       "    <tr>\n",
       "      <th>75%</th>\n",
       "      <td>0.130000</td>\n",
       "    </tr>\n",
       "    <tr>\n",
       "      <th>max</th>\n",
       "      <td>6.700000</td>\n",
       "    </tr>\n",
       "  </tbody>\n",
       "</table>\n",
       "</div>"
      ],
      "text/plain": [
       "              prcp\n",
       "count  2015.000000\n",
       "mean      0.176462\n",
       "std       0.460288\n",
       "min       0.000000\n",
       "25%       0.000000\n",
       "50%       0.020000\n",
       "75%       0.130000\n",
       "max       6.700000"
      ]
     },
     "execution_count": 18,
     "metadata": {},
     "output_type": "execute_result"
    }
   ],
   "source": [
    "# Use Pandas to calcualte the summary statistics for the precipitation data\n",
    "prcp_scores_df.describe()"
   ]
  },
  {
   "cell_type": "code",
   "execution_count": 19,
   "metadata": {},
   "outputs": [
    {
     "data": {
      "text/plain": [
       "9"
      ]
     },
     "execution_count": 19,
     "metadata": {},
     "output_type": "execute_result"
    }
   ],
   "source": [
    "# Design a query to show how many stations are available in this dataset?\n",
    "station_amt = session.query(Station).count()\n",
    "station_amt"
   ]
  },
  {
   "cell_type": "code",
   "execution_count": 20,
   "metadata": {},
   "outputs": [
    {
     "data": {
      "text/plain": [
       "[('USC00519281', 2772),\n",
       " ('USC00519397', 2724),\n",
       " ('USC00513117', 2709),\n",
       " ('USC00519523', 2669),\n",
       " ('USC00516128', 2612),\n",
       " ('USC00514830', 2202),\n",
       " ('USC00511918', 1979),\n",
       " ('USC00517948', 1372),\n",
       " ('USC00518838', 511)]"
      ]
     },
     "execution_count": 20,
     "metadata": {},
     "output_type": "execute_result"
    }
   ],
   "source": [
    "# What are the most active stations? (i.e. what stations have the most rows)?\n",
    "# List the stations and the counts in descending order.\n",
    "active_stations = session.query(Measurement.station, func.count(Measurement.station)).group_by(Measurement.station).order_by(func.count(Measurement.station).desc()).all()\n",
    "\n",
    "active_stations\n"
   ]
  },
  {
   "cell_type": "code",
   "execution_count": 21,
   "metadata": {},
   "outputs": [
    {
     "data": {
      "text/plain": [
       "('USC00519281', 2772)"
      ]
     },
     "execution_count": 21,
     "metadata": {},
     "output_type": "execute_result"
    }
   ],
   "source": [
    "most_active= active_stations[0]\n",
    "most_active"
   ]
  },
  {
   "cell_type": "code",
   "execution_count": 22,
   "metadata": {},
   "outputs": [
    {
     "data": {
      "text/plain": [
       "[(53.0, 87.0, 73.09795396419437)]"
      ]
     },
     "execution_count": 22,
     "metadata": {},
     "output_type": "execute_result"
    }
   ],
   "source": [
    "# Using the station id from the previous query, calculate the lowest temperature recorded, \n",
    "# highest temperature recorded, and average temperature most active station?\n",
    "\n",
    "#tobs_measurement =session.query(Measurement.station, Measurement.date, Measurement.tobs).filter(Measurement.date > last_yr).all()\n",
    "#tobs_df = pd.DataFrame(tobs_measurement)\n",
    "#tobs_df = tobs_df.set_index('date')\n",
    "#station_activity = tobs_df.loc[tobs_df[\"station\"]==\"USC00519281\"]\n",
    "\n",
    "sel = [func.min(Measurement.tobs), func.max(Measurement.tobs), func.avg(Measurement.tobs)]\n",
    "session.query(*sel).all()"
   ]
  },
  {
   "cell_type": "code",
   "execution_count": 23,
   "metadata": {},
   "outputs": [
    {
     "data": {
      "image/png": "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\n",
      "text/plain": [
       "<Figure size 432x288 with 1 Axes>"
      ]
     },
     "metadata": {
      "needs_background": "light"
     },
     "output_type": "display_data"
    },
    {
     "data": {
      "text/plain": [
       "<Figure size 432x288 with 0 Axes>"
      ]
     },
     "metadata": {},
     "output_type": "display_data"
    }
   ],
   "source": [
    "# Choose the station with the highest number of temperature observations.\n",
    "# Query the last 12 months of temperature observation data for this station and plot the results as a histogram\n",
    "tobs_stmt = session.query(Measurement.station, Measurement.tobs).filter(Measurement.station == 'USC00519281').filter(Measurement.date>= last_yr).statement\n",
    "\n",
    "tobsHist_df = pd.read_sql(tobs_stmt, conn)\n",
    "tobsHist_df.plot(kind='hist', bins=12)\n",
    "plt.show()\n",
    "plt.savefig('./My_results/Honolulu_Hist.png')"
   ]
  },
  {
   "cell_type": "code",
   "execution_count": 24,
   "metadata": {},
   "outputs": [
    {
     "ename": "SyntaxError",
     "evalue": "unexpected EOF while parsing (<ipython-input-24-f5afc80c8b1b>, line 18)",
     "output_type": "error",
     "traceback": [
      "\u001b[1;36m  File \u001b[1;32m\"<ipython-input-24-f5afc80c8b1b>\"\u001b[1;36m, line \u001b[1;32m18\u001b[0m\n\u001b[1;33m    print(calc_temps('2012-02-28', '2012-03-05')\u001b[0m\n\u001b[1;37m                                                ^\u001b[0m\n\u001b[1;31mSyntaxError\u001b[0m\u001b[1;31m:\u001b[0m unexpected EOF while parsing\n"
     ]
    }
   ],
   "source": [
    "# This function called `calc_temps` will accept start date and end date in the format '%Y-%m-%d' \n",
    "# and return the minimum, average, and maximum temperatures for that range of dates\n",
    "def calc_temps(start_date, end_date):\n",
    "    \"\"\"TMIN, TAVG, and TMAX for a list of dates.\n",
    "    \n",
    "    Args:\n",
    "        start_date (string): A date string in the format %Y-%m-%d\n",
    "        end_date (string): A date string in the format %Y-%m-%d\n",
    "        \n",
    "    Returns:\n",
    "        TMIN, TAVE, and TMAX\n",
    "    \"\"\"\n",
    "    \n",
    "    return session.query(func.min(Measurement.tobs), func.avg(Measurement.tobs), func.max(Measurement.tobs)).\\\n",
    "        filter(Measurement.date >= start_date).filter(Measurement.date <= end_date).all()\n",
    "\n",
    "# function usage example\n",
    "print(calc_temps('2012-02-28', '2012-03-05')"
   ]
  },
  {
   "cell_type": "code",
   "execution_count": 25,
   "metadata": {},
   "outputs": [
    {
     "data": {
      "text/plain": [
       "[(70.0, 78.71428571428571, 85.0)]"
      ]
     },
     "execution_count": 25,
     "metadata": {},
     "output_type": "execute_result"
    }
   ],
   "source": [
    "# Use your previous function `calc_temps` to calculate the tmin, tavg, and tmax \n",
    "# for your trip using the previous year's data for those same dates.\n",
    "def calc_temps(start_date, end_date):\n",
    "    return session.query(func.min(Measurement.tobs), func.avg(Measurement.tobs), func.max(Measurement.tobs)).\\\n",
    "        filter(Measurement.date >= start_date).filter(Measurement.date <= end_date).all()\n",
    "# function usage\n",
    "Trip_avg_temp=calc_temps('2017-08-10', '2017-08-23')\n",
    "Trip_avg_temp"
   ]
  },
  {
   "cell_type": "code",
   "execution_count": 26,
   "metadata": {
    "scrolled": true
   },
   "outputs": [
    {
     "data": {
      "image/png": "iVBORw0KGgoAAAANSUhEUgAAANAAAAGoCAYAAAA3omtsAAAABHNCSVQICAgIfAhkiAAAAAlwSFlzAAALEgAACxIB0t1+/AAAADl0RVh0U29mdHdhcmUAbWF0cGxvdGxpYiB2ZXJzaW9uIDMuMC4zLCBodHRwOi8vbWF0cGxvdGxpYi5vcmcvnQurowAAGYFJREFUeJzt3X20XHV97/H3hyQ8Q0LAQARsQjs8KRIUAlyFKggFdZncLtoShZ7rTcvVXlpRXDbV20JXaRcqIC6l1icuB0Eg8hQErsKNULXl8qRWkAcPDxEieSoQ8kAIIXzvH3sfnBzOzJlzvjN7MsfPa61Zs/dvP33nrPmc/dt79sxWRGBmY7NNtwsw62UOkFmCA2SW4ACZJThAZgkOkFmCA9RmkpZL+mS367BqOEBDSIoRHktGWMUhwD+3sZ5vSNos6Yx2rXOE7X2khb/Bgipq6QXyB6lbkrRX3ehsYFH5/HTZtjkiVg2z3LYR8XKba9kV+DXwReCkiDi8netvsM0dgMl1TV8GpgIfrGtbGxHrO11LL/AeaIiIWD74AJ4rm1fVta+C17pq50j6mqTngMV17a914ermu0zSWkmrJP2DJLVQzoeAnwP/BOwv6W11691d0kZJf1i/gKQZkl6V9K5yfJqkGyS9WNbyt5KulnRzg9e/Ycjf4CXg5fq2wfBIerOkmyWtkfRsObx/XS1nSfpPSe+T9LCkDZK+X9Z+kqQHJa2TdIukPeqWu1jSfZLOkPRUudwtkt7Ywt+sUg5QztnAr4AjgWZdrLOBx4G3A58CPgl8tIX1nwH0R8SLwLX124iIZ4Fbgb4hy5wGPAX8azl+BXAAcBLwHuBA4OQWtt2UpBnAj4FHgKOBY4BVwA/KPeegXYCzyrreDRwMfIfib9AHHAe8BfjHIZs4APhj4APA8cCbgKuzdbddRPjR4AG8EwhgxjDTlgO3NGj/5JDx24fMcxHw2AjbPhLYAEwpx48F1gA71c0zF3gZ2KOu7VHgH8rhQ8r631E3fbuypptb/BtcAXxvmPaLh7YDEyhC9N/K8bOG/v0oghLA79a1/X3936Nc98vA9Lq22eVyh3f7fVH/8B4o554W57tryPi/AftJ2r7JMv8DWBQRqwEi4ofASmBe3Ty3UIRqHoCkI4H9gcvL6QcDr9bXGREbgZ+2WHczRwDHlV2wdZLWAS9QHC/V6uZbExFL6saXAy9GxOND2qYNWf+SiFhWN34vRagObkPtbTOx2wX0uLEeSDc9/pE0GfgTYHtJp9RN2oaiG/cNgIjYJOkq4E+BL5XPd0XEwBjrGo1tgBuBTw8z7fm64U1DpkWDtp78Z+4AVeOoIeNHA09GxEsN5j8NWEvRjau3B3CHpFkR8bOy7XLgTElvpQjdZ+rmf4jijTmbYq+HpO2Aw4D7xvhaBt1HcUy1JCJeSa5rODMk7RXFiQyAw4FtgYc7sK0x68nU96AjJX1GUk1SH8UJhC80mf8M4LqIeHDI406Krkz9yYR7KYLSD+wMXFM37QHgduCrko6R9GaKvdf2FP/1My6g6HZdK+loSTMlHSvp82WYszYCl0uaJeloirr/rXy9Ww0HqBoXUZz9+ilwIcVB8rAftpZvlrcCCxus6xrgQ5J2qmu7HJgFfHfwmKnO6cBjwPcpTrX/EvghxenpMYuIX1HsSTcBN1PsGfop9pKv+5xsDB4Frge+C9wBPAOc2ob1tpU/SO0wScuBCyLigm7XAiBpEkWgroiIz4w0fzdIuhh4Z1TwwXGWj4HGOUnHUVxZ8B/AFIrPX/biN2fqLMEBGv8mUXzOsh/FaeCfA78fEY92tapxwl04s4Steg/0wgsvON22VZk8efIWn+H5LJxZggNkluAAmSU4QGYJDpBZggNkluAAmSU4QGYJDpBZggNkluAAmSU4QGYJDpBZggNkluAAmSU4QGYJDpBZggNklrBVf6XbxmbDhg0sWrSo4fQ5c+awww47VFjR+OUAjUMbNmxg4cJGv8sIJ554ogPUJu7CmSU4QGYJDpBZggNkluAAmSU4QGYJDpBZggNkluAAmSU4QGYJDpBZggNkluAAmSU4QGYJDpBZQmUBkvRxSb+Q9KCkqyRtL2mmpLslDUi6RtK2VdVj1g6VBEjS3sBfAYdHxFuACcCpwGeBL0REDXgemF9FPWbtUmUXbiKwg6SJwI7AMuA44Npyej8wt8J6zNIq+Up3RPxa0gXAU8AG4DbgfmB1RLxSzrYU2LvROgYGBjpe53ixZs2aptOffPJJnn322Yqq6X21Wq3htEoCJGk3YA4wE1gNfAc4eZhZo9E6mr0I29Jzzz3XdPrMmTOZOnVqRdWMb1V14d4DPBkRqyJiE3A98F+AKWWXDmAf4JmK6jFri6oC9BRwlKQdJQk4HngIuAM4pZynD2j8W0xmW6FKAhQRd1OcLPgJ8EC53a8Bfw18QtJjwO7AN6uox6xdKvtduIg4BzhnSPMTwOyqajBrN1+JYJbgAJklOEBmCeP+t7FnnDuj2yVUbtKmSRzCIQ2nH3nhkWyatKnCirpryblLOrZu74HMEhwgswQHyCzBATJLcIDMEhwgswQHyCzBATJLcIDMEhwgswQHyCzBATJLcIDMEhwgswQHyCzBATJLcIDMEhwgswQHyCzBATJLcIDMEhwgswQHyCzBATJLcIDMEhwgswQHyCyhqtvcHyDpZ3WPNZLOkjRV0u2SBsrn3aqox6xdqrpD3aMRMSsiZgFvB14EbgAWAIsjogYsLsfNekY3unDHA49HxK8o7tzdX7b3A3O7UI/ZmHUjQKcCV5XDe0bEMoDyeVoX6jEbs0rvDyRpW+ADwN+MdtmBgYH2FzRObd5mM8umLWs6/bdJ9r1Tq9UaTqv6BlsnAz+JiBXl+ApJ0yNimaTpwMpGCzZ7EbalVye8yrK9Ggfot00n3ztVd+Hm8ZvuG8BNQF853Acsqrges5TKAiRpR+AE4Pq65vOBEyQNlNPOr6oes3aorAsXES8Cuw9pe5birJxZT/KVCGYJDpBZggNkluAAmSU4QGYJDpBZggNkluAAmSU4QGYJDpBZggNkluAAmSU4QGYJDpBZggNkluAAmSU4QGYJDpBZggNkluAAmSU4QGYJDpBZggNkluAAmSU4QGYJDpBZggNkluAAmSU4QGYJDpBZggNkluAAmSVUeYe6KZKulfSIpIclHS1pqqTbJQ2Uz7tVVY9ZO1S5B/oi8L2IOBA4FHgYWAAsjogasLgcN+sZlQRI0q7AscA3ASLi5YhYDcwB+svZ+oG5VdRj1i5V3SN1P2AV8L8lHQrcD3wM2DMilgGUt7qf1mgFAwMDlRRq40/2vVOr1RpOqypAE4G3AX8ZEXdL+iKj7K41exFmzXTyvVPVMdBSYGlE3F2OX0sRqBWSpgOUzysrqsesLSoJUEQsB56WdEDZdDzwEHAT0Fe29QGLqqjHrF2q6sIB/CVwpaRtgSeAD1MEeKGk+cBTwB9VWI9ZWmUBioifAYcPM+n4qmowazdfiWCW4ACZJThAZgkOkFmCA2SW4ACZJThAZgkOkFmCA2SW4ACZJThAZgkOkFmCA2SW4ACZJThAZgkOkFmCA2SW4ACZJThAZgkOkFmCA2SW4ACZJThAZgkOkFmCA2SW4ACZJThAZgkOkFmCA2SW4ACZJThAZgkOkFlCZTfYkrQEWAtsBl6JiMMlTQWuAWYAS4A/jojnq6rJLKvpHkjSZEl/IekWSUslrSufb5F0pqQpo9zeuyNiVkQM3qluAbA4ImrAYkZ5526zbmsYIEnnUNwI+EjgOor7lx5VPl8HHAE8KOncxPbnAP3lcD8wN7Eus8o168K9CNQi4sVhpt0FXCppJ+CjLW4rgNskBfDViPgasGdELAOIiGWSpjVaeGBgoMXNmG0p+96p1WoNpzUMUER8fqQVR8R64IIW63hHRDxThuR2SY+0uBzQ/EWYNdPJ985Ix0DXDBl//1g3FBHPlM8rgRuA2cAKSdPLdU8HVo51/WbdMNJp7JOHjF8+lo1I2knSLoPDwInAg8BNQF85Wx+waCzrN+uWkU5ja4TxVu0J3CBpcJvfjojvSboXWChpPvAUxQkKs54xUoBihPGWRMQTwKHDtD8LHD+WdZptDUYK0E6Sflk3vuuQcSJi//aXZdYbRgrQeyupwqxHNQ1QRHy/qkLMelGzKxHOkNQ0YJImSjqj/WWZ9YZmATkQeFzSjcC/Ao9SXAy6C7A/8C6KS3Gu7XCNZlutZlcifELSBcB/B84GDgF2BtYADwC3AkcPXopj9ttopGOgZ4DzygeStomIV6sozKwXjOoLdQ6P2Zb8jVSzBAfILMEBMkto+TcRJO0M/AHwRuAZ4LaIWNupwsx6QUsBknQMcCPwNMVV028CviZpbkT8qIP1mW3VWt0DfQU4KyK+Ndgg6TTgX4A3d6Iws17Q6jHQvsC3h7RdBezT3nLMekurAboK+LMhbfN5fajMfqu02oWrAfMlfQpYSrHn2Rf4oaTbBmeKiBPbX6LZ1qvVAC0sH2ZWp6UARcRXO12IWS8azedARwCHUVyR/ZqIuKjdRZn1ilY/B7oQ+DDw78CGuklj+pERs/Gi1T3Qh4FDI+LpThZj1mtaPY39a4pvo5pZnVb3QH8OfF1SP0N+fjci7ml7VWY9otUAHUTxM78n8/pjoIZ3VDAb71oN0OeAUyPi5k4WY9ZrWj0G2gj4N+LMhmg1QH8HfG4Mt3Q0G9da7cJ9FZgA/JWkzWWbgIiIbTtSmVkPaDVAb+loFWY9qtVr4R4dHJY0NSKe61xJZr2jpWMgSbtKulTSeoqvdSPp/ZL+djQbkzRB0k8l3VyOz5R0t6QBSddIcnfQekqrJxEuKZ/fArxcDt8DnD7K7X0MeLhu/LPAFyKiBjxP8SU9s57RaoD+APhIRDxJeQFpebPgPVvdkKR9gPcB3yjHBRzHb36cvh+Y2+r6zLYGrQZoLbBbfUMZiBWj2NbFwKeAwZ8H3h1YHRGvlONLgb1HsT6zrmv1LNxlFDcDXkCx8ziMovv19VYWlvR+YGVE3C/pXYPNw8za8OsRAwMDLZZqtqXse6dWqzWc1mqA/hHYBFxJ8YW66yk+G7qgxeXfAXxA0nuB7YFdKfZIUyRNLPdC+1D8YOOwmr0Is2Y6+d5p2oWTNA+KuzJExPkRsV9ETIqImeV4S1+oi4i/iYh9ImIGcCrwg4j4EHAHcEo5Wx+waMyvxKwLRjoG6vRvIfw18AlJj1EcE32zw9sza6uRunDDHaekRMSdwJ3l8BPA7HZvw6wqIwVogqR30yRIEfGD9pZk1jtGCtB2FN2qRgEKYL+2VmTWQ0YK0PqIcEDMGvANtswSRgpQ208imI0nTQMUEbtUVYhZL3IXzizBATJLcIDMEhwgswQHyCzBATJLcIDMEhwgswQHyCzBATJLcIDMEhwgswQHyCzBATJLcIDMEhwgswQHyCzBATJLcIDMEhwgswQHyCzBATJLcIDMEhwgswQHyCzBATJLqCRAkraXdI+k/5D0C0l/X7bPlHS3pAFJ10jatop6zNqlqj3QRuC4iDgUmAWcJOkoijt9fyEiasDzwPyK6jFri0oCFIV15eik8hHAccC1ZXs/MLeKeszapdXb3KdJmgDcD/wecAnwOLC6vMU9wFJg70bLDwwMdLxGG5+y751ardZwWmUBiojNwCxJU4AbgIOGm63R8s1ehFkznXzvVH4WLiJWU9yl+yhgiqTBEO8DPFN1PWYZVZ2Fe0O550HSDsB7gIeBO4BTytn6gEVV1GPWLlV14aYD/eVx0DbAwoi4WdJDwNWSzgN+SnFHcLOeUUmAIuLnwGHDtD8BzK6iBrNO8JUIZgkOkFmCA2SW4ACZJThAZgkOkFmCA2SW4ACZJThAZgkOkFmCA2SW4ACZJThAZgkOkFmCA2SW4ACZJThAZgkOkFmCA2SW4ACZJThAZgkOkFmCA2SW4ACZJThAZgkOkFmCA2SW4ACZJThAZgkOkFmCA2SW4ACZJVR1i8d9Jd0h6WFJv5D0sbJ9qqTbJQ2Uz7tVUY9Zu1S1B3oFODsiDqK4ufD/lHQwsABYHBE1YHE5btYzKglQRCyLiJ+Uw2spbjC8NzAH6C9n6wfmVlGPWbtUdZPh10iaQXG/1LuBPSNiGRQhkzSt0XIDAwOV1GfjT/a9U6vVGk6rNECSdgauA86KiDWSWl622Yswa6aT753KzsJJmkQRnisj4vqyeYWk6eX06cDKquoxa4eqzsIJ+CbwcERcVDfpJqCvHO4DFlVRj1m7VNWFewdwOvCApJ+VbZ8GzgcWSpoPPAX8UUX1mLVFJQGKiB8DjQ54jq+iBrNO8JUIZgkOkFmCA2SW4ACZJThAZgkOkFmCA2SW4ACZJThAZgkOkFmCA2SW4ACZJThAZgkOkFmCA2SW4ACZJThAZgkOkFmCA2SW4ACZJThAZgkOkFmCA2SW4ACZJThAZgkOkFmCA2SW4ACZJThAZgkOkFmCA2SWUNUd6i6VtFLSg3VtUyXdLmmgfN6tilrM2qmqPdBlwElD2hYAiyOiBiwux816SiUBiogfAs8NaZ4D9JfD/cDcKmoxa6duHgPtGRHLAMrnaV2sxWxMqrrJcNrAwEC3S7AelX3v1Gq1htO6GaAVkqZHxDJJ04GVzWZu9iLMmunke6ebXbibgL5yuA9Y1MVazMakqtPYVwF3AQdIWippPnA+cIKkAeCEctysp1TShYuIeQ0mHV/F9s06xVcimCU4QGYJDpBZggNkluAAmSU4QGYJDpBZggNkluAAmSU4QGYJDpBZggNkluAAmSU4QGYJDpBZggNkluAAmSU4QGYJDpBZggNkluAAmSU4QGYJDpBZggNkluAAmSU4QGYJDpBZggNkluAAmSU4QGYJDpBZggNkltD1AEk6SdKjkh6TtKDb9ZiNRlcDJGkCcAlwMnAwME/Swd2syWw0un2b+9nAYxHxBICkq4E5wEPt2sCSc5e0a1Vmr9PtLtzewNN140vLNrOe0O0AaZi2qLwKszHqdhduKbBv3fg+wDODI5MnTx4uYGZbjW7vge4FapJmStoWOBW4qcs1mbWsq3ugiHhF0pnA94EJwKUR8Ytu1mQ2GorwIcd4Jekk4IsU/5y+ERHnd7mkcccBGqfKz9h+CZxAcax5LzAvItr2EYF1/xjIOue1z9gi4mVg8DM2ayMHaPzyZ2wVcIDGL3/GVgEHaPxq+hmbtYcDNH75M7YKdPtKBOsQf8ZWDZ/GNktwF84swQEyS3CAzBIcILMEB8gswQEyS3CAhpB0pqT7JG2UdNmQaQeX054vH/+32a8ISbpT0kuS1kpaI+l+SQskbdfB+iXpCUkduepa0jGS1pWP9ZKibnydpDd1YrtbKwfo9Z4BzgMubTDtFGAqsAfFJ/tXj7C+MyNiF2A6cDbFFQG3SurU19WPBaYB+0k6ot0rj4gfRcTOEbEz8OayecpgW0Q81e5tbs0coCEi4vqIuBF4dphpqyNiSRSfPgvYDPxei+tdHxF3Ah8AjgbeByBptqS7JK2WtEzSl8tLb5B0iaQL69cj6buSzmqyqT5gEXBrOTy43KmS7huyro9Luqkc3r1c9xpJ90o6T9KPW3ltQ0maKulyScslPS3pHEnblNM+IukH5et8QdKApMMlnSHp15JWSDq1bl1XS/qSpDvKPfliSVvNVeUO0BhIWg28BHwJ+KfRLFv+h74POKZs2gx8nGKPdjRwPPAX5bR+ih+bHHzz7VFOv6pBXTtS7CGvLB+nDoaRYm95gKRa3SIfBL5dDl8CrAf2ogheH2N3JfACsB/F95LmAqfXTT8G+Hdgd+BG4DrgIGAm8OfAVyRtXzf/6cCngTcAAxR/l61DRPgxzIOiG3dZk+k7UbzR39dknjuBPxum/Wrg6w2WOQu4oW78YeCEcvhM4NYm2zsNWEVxjeN2wGrgv9ZNvwL4u3K4BqwFdqS4Vm4TcMCQ1//jEf5GMyi+IjGxru13KII4qa7tw8D/KYc/AjxQN+2Ich2T69rWAwfW/a0uq5s2tZz/Dd1+j0SE90BjFRHrgX8BLpc0bZSL7w08ByBpf0k3l92dNRR7tD3q5u2nCAbl87earLcPWBgRr0TERuB6ttyTfBuYVw5/ELgxIl6k+M8+kS2/gFc/PBq/A2wPrCq7paspfpdhz7p5VtQNbwA2RsQLQ9p2Hq6WiHgOWAe8cYz1tZUDlLMNxX/wlvvkkvYF3g78qGz6CvAIUIuIXSm6KvUnGK4A5kg6lKKbc2OD9e4DHAecVoZxOUV37r1l1w/gNmAPSbMogjTYfVsFvELxnaFB9d8lGo2nKd7gu0XElPKxa0S8bYzr26IWSVMpwrUssb62cYCGkDSx7H9PACZI2l7SxHLaCZIOkzRB0q7ARcDzFN2skda7o6TfpzjAv4fiIB9gF2ANsE7SgcBH65eLiMEfBPkWcF1EbGiwidMpfkTkAGBW+dif4ot188p1vQJcC3yeoit0e9m+mWJvdW5Z54HAn470moYTEU8C/w/4nKRdJG0jqSbpnWNZX2mOpCPL0//nAXdExMrE+trGAXq9/0XRhVhA0WXaULYBTKE4gH8BeJziDNxJEfFSk/V9WdJaim7LxRQHzCdFxKvl9E9SdKfWAl8HrhlmHf3AIYzcffvniFhe/6DoZg7txr0H+E4ZqEFnApOB5eV2rgI2NtleM/Mo/laPUHRVr2HLLtxoXQGcD/wnxV44c4Kjrfx9oB4g6ViKN9GMuuB1epufBfaKiK6+WVXcsePBiDivm3U04j3QVk7SJOBjFD+M2LHwSDpQ0lvLKxlmA/OBGzq1vfHCAdqKSTqI4lT0dIruXyftQnEctB5YCFxIcbxmTbgLZ5bgPZBZggNkluAAmSU4QGYJDpBZwv8HW1Q3V41ZPsQAAAAASUVORK5CYII=\n",
      "text/plain": [
       "<Figure size 216x432 with 1 Axes>"
      ]
     },
     "metadata": {
      "needs_background": "light"
     },
     "output_type": "display_data"
    }
   ],
   "source": [
    "# Plot the results from your previous query as a bar chart. \n",
    "# Use \"Trip Avg Temp\" as your Title\n",
    "# Use the average temperature for the y value\n",
    "# Use the peak-to-peak (tmax-tmin) value as the y error bar (yerr)\n",
    "import seaborn as sns\n",
    "plt.figure(figsize=(3,6))\n",
    "sns.barplot(data= Trip_avg_temp, color= 'green' )\n",
    "plt.ylabel('Temp (F)')\n",
    "plt.xlabel('13 Day Avg Temp')\n",
    "plt.title('Trip Avg Temp')\n",
    "\n",
    "plt.tight_layout()\n",
    "plt.show()"
   ]
  },
  {
   "cell_type": "code",
   "execution_count": 27,
   "metadata": {},
   "outputs": [
    {
     "data": {
      "text/plain": [
       "[('USC00516128',\n",
       "  0.8,\n",
       "  'MANOA LYON ARBO 785.2, HI US',\n",
       "  21.3331,\n",
       "  -157.8025,\n",
       "  152.4),\n",
       " ('USC00519281',\n",
       "  0.2,\n",
       "  'WAIHEE 837.5, HI US',\n",
       "  21.45167,\n",
       "  -157.84888999999998,\n",
       "  32.9),\n",
       " ('USC00514830',\n",
       "  0.07,\n",
       "  'KUALOA RANCH HEADQUARTERS 886.9, HI US',\n",
       "  21.5213,\n",
       "  -157.8374,\n",
       "  7.0),\n",
       " ('USC00513117', 0.06, 'KANEOHE 838.1, HI US', 21.4234, -157.8015, 14.6),\n",
       " ('USC00517948', 0.0, 'PEARL CITY, HI US', 21.3934, -157.9751, 11.9),\n",
       " ('USC00519397', 0.0, 'WAIKIKI 717.2, HI US', 21.2716, -157.8168, 3.0),\n",
       " ('USC00519523',\n",
       "  None,\n",
       "  'WAIMANALO EXPERIMENTAL FARM, HI US',\n",
       "  21.33556,\n",
       "  -157.71139,\n",
       "  19.5)]"
      ]
     },
     "execution_count": 27,
     "metadata": {},
     "output_type": "execute_result"
    }
   ],
   "source": [
    "# Calculate the total amount of rainfall per weather station for your trip dates using the previous year's matching dates.\n",
    "# Sort this in descending order by precipitation amount and list the station, name, latitude, longitude, and elevation\n",
    "\n",
    "Tot_rain =session.query(Measurement.station, Measurement.prcp, Station.name, Station.latitude, Station.longitude, Station.elevation).\\\n",
    "    filter(Measurement.date.between('2017-07-23','2017-08-23')).\\\n",
    "    group_by(Measurement.station).\\\n",
    "    join(Station, Measurement.station==Station.station).\\\n",
    "    order_by(Measurement.prcp.desc()).all()\n",
    "Tot_rain"
   ]
  },
  {
   "cell_type": "markdown",
   "metadata": {},
   "source": [
    "## Optional Challenge Assignment"
   ]
  },
  {
   "cell_type": "code",
   "execution_count": 28,
   "metadata": {},
   "outputs": [
    {
     "data": {
      "text/plain": [
       "[(62.0, 69.15384615384616, 77.0)]"
      ]
     },
     "execution_count": 28,
     "metadata": {},
     "output_type": "execute_result"
    }
   ],
   "source": [
    "# Create a query that will calculate the daily normals \n",
    "# (i.e. the averages for tmin, tmax, and tavg for all historic data matching a specific month and day)\n",
    "\n",
    "def daily_normals(date):\n",
    "    \"\"\"Daily Normals.\n",
    "    \n",
    "    Args:\n",
    "        date (str): A date string in the format '%m-%d'\n",
    "        \n",
    "    Returns:\n",
    "        A list of tuples containing the daily normals, tmin, tavg, and tmax\n",
    "    \n",
    "    \"\"\"\n",
    "    \n",
    "    sel = [func.min(Measurement.tobs), func.avg(Measurement.tobs), func.max(Measurement.tobs)]\n",
    "    return session.query(*sel).filter(func.strftime(\"%m-%d\", Measurement.date) == date).all()\n",
    "    \n",
    "daily_normals(\"01-01\")"
   ]
  },
  {
   "cell_type": "code",
   "execution_count": 29,
   "metadata": {},
   "outputs": [],
   "source": [
    "# calculate the daily normals for your trip\n",
    "# push each tuple of calculations into a list called `normals`\n",
    "\n",
    "# Set the start and end date of the trip\n",
    "\n",
    "# Use the start and end date to create a range of dates\n",
    "\n",
    "# Stip off the year and save a list of %m-%d strings\n",
    "\n",
    "# Loop through the list of %m-%d strings and calculate the normals for each date\n"
   ]
  },
  {
   "cell_type": "code",
   "execution_count": null,
   "metadata": {},
   "outputs": [],
   "source": [
    "# Load the previous query results into a Pandas DataFrame and add the `trip_dates` range as the `date` index\n"
   ]
  },
  {
   "cell_type": "code",
   "execution_count": null,
   "metadata": {},
   "outputs": [],
   "source": [
    "# Plot the daily normals as an area plot with `stacked=False`\n"
   ]
  }
 ],
 "metadata": {
  "kernel_info": {
   "name": "python3"
  },
  "kernelspec": {
<<<<<<< HEAD
   "display_name": "Python 3",
   "language": "python",
   "name": "python3"
=======
   "display_name": "Python [conda env:PythonData] *",
   "language": "python",
   "name": "conda-env-PythonData-py"
>>>>>>> 334cf7da69f137fca12f7901bd7d194f5272bbea
  },
  "language_info": {
   "codemirror_mode": {
    "name": "ipython",
    "version": 3
   },
   "file_extension": ".py",
   "mimetype": "text/x-python",
   "name": "python",
   "nbconvert_exporter": "python",
   "pygments_lexer": "ipython3",
   "version": "3.6.8"
  },
  "nteract": {
   "version": "0.12.3"
  },
  "varInspector": {
   "cols": {
    "lenName": 16,
    "lenType": 16,
    "lenVar": 40
   },
   "kernels_config": {
    "python": {
     "delete_cmd_postfix": "",
     "delete_cmd_prefix": "del ",
     "library": "var_list.py",
     "varRefreshCmd": "print(var_dic_list())"
    },
    "r": {
     "delete_cmd_postfix": ") ",
     "delete_cmd_prefix": "rm(",
     "library": "var_list.r",
     "varRefreshCmd": "cat(var_dic_list()) "
    }
   },
   "types_to_exclude": [
    "module",
    "function",
    "builtin_function_or_method",
    "instance",
    "_Feature"
   ],
   "window_display": false
  }
 },
 "nbformat": 4,
 "nbformat_minor": 2
}
